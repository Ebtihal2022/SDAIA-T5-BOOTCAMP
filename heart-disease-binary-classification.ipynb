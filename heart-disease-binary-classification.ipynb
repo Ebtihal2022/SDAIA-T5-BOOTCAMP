{
 "cells": [
  {
   "cell_type": "code",
   "execution_count": 3,
   "id": "bfdfc466",
   "metadata": {
    "_cell_guid": "b1076dfc-b9ad-4769-8c92-a6c4dae69d19",
    "_uuid": "8f2839f25d086af736a60e9eeb907d3b93b6e0e5",
    "execution": {
     "iopub.execute_input": "2022-01-04T23:34:12.996722Z",
     "iopub.status.busy": "2022-01-04T23:34:12.996046Z",
     "iopub.status.idle": "2022-01-04T23:34:14.461692Z",
     "shell.execute_reply": "2022-01-04T23:34:14.460846Z",
     "shell.execute_reply.started": "2022-01-04T22:55:03.804166Z"
    },
    "papermill": {
     "duration": 1.506217,
     "end_time": "2022-01-04T23:34:14.461864",
     "exception": false,
     "start_time": "2022-01-04T23:34:12.955647",
     "status": "completed"
    },
    "tags": []
   },
   "outputs": [],
   "source": [
    "# This is my first notebook on Github, ever, any advice or support would be much appreciated :)\n",
    "# I will be trying different ML models such as LogisticRegression, RandomForestClassifier, as well as KNN to figure out which works better\n",
    "# Python 3.9.7\n",
    "\n",
    "# Data science and visualization\n",
    "import numpy as np\n",
    "import pandas as pd\n",
    "import matplotlib.pyplot as plt\n",
    "import seaborn as sns\n",
    "%matplotlib inline\n",
    "\n",
    "# Models\n",
    "import sklearn\n",
    "from sklearn.ensemble import RandomForestClassifier\n",
    "from sklearn.linear_model import LogisticRegression\n",
    "from sklearn.neighbors import KNeighborsClassifier\n",
    "from sklearn.ensemble import RandomForestClassifier\n",
    "\n",
    "# Model evaluations\n",
    "from sklearn.model_selection import train_test_split, cross_val_score\n",
    "from sklearn.model_selection import RandomizedSearchCV, GridSearchCV\n",
    "from sklearn.metrics import confusion_matrix, ConfusionMatrixDisplay, classification_report\n",
    "from sklearn.metrics import precision_score, recall_score, f1_score, plot_roc_curve, accuracy_score\n",
    "\n",
    "# Ignore warnings\n",
    "import warnings\n",
    "warnings.filterwarnings('ignore')"
   ]
  },
  {
   "cell_type": "code",
   "execution_count": 5,
   "id": "ae597108",
   "metadata": {
    "execution": {
     "iopub.execute_input": "2022-01-04T23:34:14.529323Z",
     "iopub.status.busy": "2022-01-04T23:34:14.528626Z",
     "iopub.status.idle": "2022-01-04T23:34:15.547258Z",
     "shell.execute_reply": "2022-01-04T23:34:15.546667Z",
     "shell.execute_reply.started": "2022-01-04T22:55:03.817554Z"
    },
    "papermill": {
     "duration": 1.053562,
     "end_time": "2022-01-04T23:34:15.547428",
     "exception": false,
     "start_time": "2022-01-04T23:34:14.493866",
     "status": "completed"
    },
    "tags": []
   },
   "outputs": [
    {
     "data": {
      "text/html": [
       "<div>\n",
       "<style scoped>\n",
       "    .dataframe tbody tr th:only-of-type {\n",
       "        vertical-align: middle;\n",
       "    }\n",
       "\n",
       "    .dataframe tbody tr th {\n",
       "        vertical-align: top;\n",
       "    }\n",
       "\n",
       "    .dataframe thead th {\n",
       "        text-align: right;\n",
       "    }\n",
       "</style>\n",
       "<table border=\"1\" class=\"dataframe\">\n",
       "  <thead>\n",
       "    <tr style=\"text-align: right;\">\n",
       "      <th></th>\n",
       "      <th>HeartDiseaseorAttack</th>\n",
       "      <th>HighBP</th>\n",
       "      <th>HighChol</th>\n",
       "      <th>CholCheck</th>\n",
       "      <th>BMI</th>\n",
       "      <th>Smoker</th>\n",
       "      <th>Stroke</th>\n",
       "      <th>Diabetes</th>\n",
       "      <th>PhysActivity</th>\n",
       "      <th>Fruits</th>\n",
       "      <th>...</th>\n",
       "      <th>AnyHealthcare</th>\n",
       "      <th>NoDocbcCost</th>\n",
       "      <th>GenHlth</th>\n",
       "      <th>MentHlth</th>\n",
       "      <th>PhysHlth</th>\n",
       "      <th>DiffWalk</th>\n",
       "      <th>Sex</th>\n",
       "      <th>Age</th>\n",
       "      <th>Education</th>\n",
       "      <th>Income</th>\n",
       "    </tr>\n",
       "  </thead>\n",
       "  <tbody>\n",
       "    <tr>\n",
       "      <th>0</th>\n",
       "      <td>0.0</td>\n",
       "      <td>1.0</td>\n",
       "      <td>1.0</td>\n",
       "      <td>1.0</td>\n",
       "      <td>40.0</td>\n",
       "      <td>1.0</td>\n",
       "      <td>0.0</td>\n",
       "      <td>0.0</td>\n",
       "      <td>0.0</td>\n",
       "      <td>0.0</td>\n",
       "      <td>...</td>\n",
       "      <td>1.0</td>\n",
       "      <td>0.0</td>\n",
       "      <td>5.0</td>\n",
       "      <td>18.0</td>\n",
       "      <td>15.0</td>\n",
       "      <td>1.0</td>\n",
       "      <td>0.0</td>\n",
       "      <td>9.0</td>\n",
       "      <td>4.0</td>\n",
       "      <td>3.0</td>\n",
       "    </tr>\n",
       "    <tr>\n",
       "      <th>1</th>\n",
       "      <td>0.0</td>\n",
       "      <td>0.0</td>\n",
       "      <td>0.0</td>\n",
       "      <td>0.0</td>\n",
       "      <td>25.0</td>\n",
       "      <td>1.0</td>\n",
       "      <td>0.0</td>\n",
       "      <td>0.0</td>\n",
       "      <td>1.0</td>\n",
       "      <td>0.0</td>\n",
       "      <td>...</td>\n",
       "      <td>0.0</td>\n",
       "      <td>1.0</td>\n",
       "      <td>3.0</td>\n",
       "      <td>0.0</td>\n",
       "      <td>0.0</td>\n",
       "      <td>0.0</td>\n",
       "      <td>0.0</td>\n",
       "      <td>7.0</td>\n",
       "      <td>6.0</td>\n",
       "      <td>1.0</td>\n",
       "    </tr>\n",
       "    <tr>\n",
       "      <th>2</th>\n",
       "      <td>0.0</td>\n",
       "      <td>1.0</td>\n",
       "      <td>1.0</td>\n",
       "      <td>1.0</td>\n",
       "      <td>28.0</td>\n",
       "      <td>0.0</td>\n",
       "      <td>0.0</td>\n",
       "      <td>0.0</td>\n",
       "      <td>0.0</td>\n",
       "      <td>1.0</td>\n",
       "      <td>...</td>\n",
       "      <td>1.0</td>\n",
       "      <td>1.0</td>\n",
       "      <td>5.0</td>\n",
       "      <td>30.0</td>\n",
       "      <td>30.0</td>\n",
       "      <td>1.0</td>\n",
       "      <td>0.0</td>\n",
       "      <td>9.0</td>\n",
       "      <td>4.0</td>\n",
       "      <td>8.0</td>\n",
       "    </tr>\n",
       "    <tr>\n",
       "      <th>3</th>\n",
       "      <td>0.0</td>\n",
       "      <td>1.0</td>\n",
       "      <td>0.0</td>\n",
       "      <td>1.0</td>\n",
       "      <td>27.0</td>\n",
       "      <td>0.0</td>\n",
       "      <td>0.0</td>\n",
       "      <td>0.0</td>\n",
       "      <td>1.0</td>\n",
       "      <td>1.0</td>\n",
       "      <td>...</td>\n",
       "      <td>1.0</td>\n",
       "      <td>0.0</td>\n",
       "      <td>2.0</td>\n",
       "      <td>0.0</td>\n",
       "      <td>0.0</td>\n",
       "      <td>0.0</td>\n",
       "      <td>0.0</td>\n",
       "      <td>11.0</td>\n",
       "      <td>3.0</td>\n",
       "      <td>6.0</td>\n",
       "    </tr>\n",
       "    <tr>\n",
       "      <th>4</th>\n",
       "      <td>0.0</td>\n",
       "      <td>1.0</td>\n",
       "      <td>1.0</td>\n",
       "      <td>1.0</td>\n",
       "      <td>24.0</td>\n",
       "      <td>0.0</td>\n",
       "      <td>0.0</td>\n",
       "      <td>0.0</td>\n",
       "      <td>1.0</td>\n",
       "      <td>1.0</td>\n",
       "      <td>...</td>\n",
       "      <td>1.0</td>\n",
       "      <td>0.0</td>\n",
       "      <td>2.0</td>\n",
       "      <td>3.0</td>\n",
       "      <td>0.0</td>\n",
       "      <td>0.0</td>\n",
       "      <td>0.0</td>\n",
       "      <td>11.0</td>\n",
       "      <td>5.0</td>\n",
       "      <td>4.0</td>\n",
       "    </tr>\n",
       "  </tbody>\n",
       "</table>\n",
       "<p>5 rows × 22 columns</p>\n",
       "</div>"
      ],
      "text/plain": [
       "   HeartDiseaseorAttack  HighBP  HighChol  CholCheck   BMI  Smoker  Stroke  \\\n",
       "0                   0.0     1.0       1.0        1.0  40.0     1.0     0.0   \n",
       "1                   0.0     0.0       0.0        0.0  25.0     1.0     0.0   \n",
       "2                   0.0     1.0       1.0        1.0  28.0     0.0     0.0   \n",
       "3                   0.0     1.0       0.0        1.0  27.0     0.0     0.0   \n",
       "4                   0.0     1.0       1.0        1.0  24.0     0.0     0.0   \n",
       "\n",
       "   Diabetes  PhysActivity  Fruits  ...  AnyHealthcare  NoDocbcCost  GenHlth  \\\n",
       "0       0.0           0.0     0.0  ...            1.0          0.0      5.0   \n",
       "1       0.0           1.0     0.0  ...            0.0          1.0      3.0   \n",
       "2       0.0           0.0     1.0  ...            1.0          1.0      5.0   \n",
       "3       0.0           1.0     1.0  ...            1.0          0.0      2.0   \n",
       "4       0.0           1.0     1.0  ...            1.0          0.0      2.0   \n",
       "\n",
       "   MentHlth  PhysHlth  DiffWalk  Sex   Age  Education  Income  \n",
       "0      18.0      15.0       1.0  0.0   9.0        4.0     3.0  \n",
       "1       0.0       0.0       0.0  0.0   7.0        6.0     1.0  \n",
       "2      30.0      30.0       1.0  0.0   9.0        4.0     8.0  \n",
       "3       0.0       0.0       0.0  0.0  11.0        3.0     6.0  \n",
       "4       3.0       0.0       0.0  0.0  11.0        5.0     4.0  \n",
       "\n",
       "[5 rows x 22 columns]"
      ]
     },
     "execution_count": 5,
     "metadata": {},
     "output_type": "execute_result"
    }
   ],
   "source": [
    "# Importing & Exploring the dataset\n",
    "df = pd.read_csv('heart_disease_health_indicators_BRFSS2015.csv')\n",
    "df.head()"
   ]
  },
  {
   "cell_type": "code",
   "execution_count": null,
   "id": "b1e2cf49",
   "metadata": {},
   "outputs": [],
   "source": [
    "# DATA SHABE?"
   ]
  },
  {
   "cell_type": "code",
   "execution_count": 6,
   "id": "3c4e9419",
   "metadata": {
    "execution": {
     "iopub.execute_input": "2022-01-04T23:34:15.618732Z",
     "iopub.status.busy": "2022-01-04T23:34:15.617803Z",
     "iopub.status.idle": "2022-01-04T23:34:15.620868Z",
     "shell.execute_reply": "2022-01-04T23:34:15.621548Z",
     "shell.execute_reply.started": "2022-01-04T22:55:04.475579Z"
    },
    "papermill": {
     "duration": 0.041448,
     "end_time": "2022-01-04T23:34:15.621726",
     "exception": false,
     "start_time": "2022-01-04T23:34:15.580278",
     "status": "completed"
    },
    "tags": []
   },
   "outputs": [
    {
     "data": {
      "text/plain": [
       "253680"
      ]
     },
     "execution_count": 6,
     "metadata": {},
     "output_type": "execute_result"
    }
   ],
   "source": [
    "len(df)"
   ]
  },
  {
   "cell_type": "code",
   "execution_count": 7,
   "id": "e73d3f22",
   "metadata": {
    "execution": {
     "iopub.execute_input": "2022-01-04T23:34:15.687431Z",
     "iopub.status.busy": "2022-01-04T23:34:15.686683Z",
     "iopub.status.idle": "2022-01-04T23:34:15.698268Z",
     "shell.execute_reply": "2022-01-04T23:34:15.698822Z",
     "shell.execute_reply.started": "2022-01-04T22:55:04.483856Z"
    },
    "papermill": {
     "duration": 0.045788,
     "end_time": "2022-01-04T23:34:15.698993",
     "exception": false,
     "start_time": "2022-01-04T23:34:15.653205",
     "status": "completed"
    },
    "tags": []
   },
   "outputs": [
    {
     "data": {
      "text/plain": [
       "float64    22\n",
       "dtype: int64"
      ]
     },
     "execution_count": 7,
     "metadata": {},
     "output_type": "execute_result"
    }
   ],
   "source": [
    "# All features are in a numeric format so we don't have to transform any of our data\n",
    "df.dtypes.value_counts()"
   ]
  },
  {
   "cell_type": "code",
   "execution_count": 8,
   "id": "d7e86244",
   "metadata": {
    "execution": {
     "iopub.execute_input": "2022-01-04T23:34:15.766374Z",
     "iopub.status.busy": "2022-01-04T23:34:15.765654Z",
     "iopub.status.idle": "2022-01-04T23:34:15.785397Z",
     "shell.execute_reply": "2022-01-04T23:34:15.786045Z",
     "shell.execute_reply.started": "2022-01-04T22:55:04.503354Z"
    },
    "papermill": {
     "duration": 0.05494,
     "end_time": "2022-01-04T23:34:15.786224",
     "exception": false,
     "start_time": "2022-01-04T23:34:15.731284",
     "status": "completed"
    },
    "tags": []
   },
   "outputs": [
    {
     "data": {
      "text/plain": [
       "0"
      ]
     },
     "execution_count": 8,
     "metadata": {},
     "output_type": "execute_result"
    }
   ],
   "source": [
    "# Checking for missing values\n",
    "df.isna().sum().sum()"
   ]
  },
  {
   "cell_type": "code",
   "execution_count": 9,
   "id": "55c9502a",
   "metadata": {
    "execution": {
     "iopub.execute_input": "2022-01-04T23:34:15.852343Z",
     "iopub.status.busy": "2022-01-04T23:34:15.851667Z",
     "iopub.status.idle": "2022-01-04T23:34:15.865236Z",
     "shell.execute_reply": "2022-01-04T23:34:15.865876Z",
     "shell.execute_reply.started": "2022-01-04T22:55:04.531031Z"
    },
    "papermill": {
     "duration": 0.048054,
     "end_time": "2022-01-04T23:34:15.866050",
     "exception": false,
     "start_time": "2022-01-04T23:34:15.817996",
     "status": "completed"
    },
    "tags": []
   },
   "outputs": [
    {
     "data": {
      "text/plain": [
       "0.0    229787\n",
       "1.0     23893\n",
       "Name: HeartDiseaseorAttack, dtype: int64"
      ]
     },
     "execution_count": 9,
     "metadata": {},
     "output_type": "execute_result"
    }
   ],
   "source": [
    "# Checking how imbalance our target column is\n",
    "df.HeartDiseaseorAttack.value_counts()"
   ]
  },
  {
   "cell_type": "code",
   "execution_count": 10,
   "id": "eae05dcc",
   "metadata": {
    "execution": {
     "iopub.execute_input": "2022-01-04T23:34:15.946568Z",
     "iopub.status.busy": "2022-01-04T23:34:15.942768Z",
     "iopub.status.idle": "2022-01-04T23:34:15.950816Z",
     "shell.execute_reply": "2022-01-04T23:34:15.950226Z",
     "shell.execute_reply.started": "2022-01-04T22:55:04.547505Z"
    },
    "papermill": {
     "duration": 0.051355,
     "end_time": "2022-01-04T23:34:15.950957",
     "exception": false,
     "start_time": "2022-01-04T23:34:15.899602",
     "status": "completed"
    },
    "tags": []
   },
   "outputs": [
    {
     "name": "stdout",
     "output_type": "stream",
     "text": [
      "Percentage of No Heart Disease/Attack: 90.58%\n",
      "Percentage of Heart Disease/Attacks:   9.42%\n"
     ]
    }
   ],
   "source": [
    "print(f'Percentage of No Heart Disease/Attack: {round(df[\"HeartDiseaseorAttack\"].value_counts()[0] / len(df) * 100, 2)}%')\n",
    "print(f'Percentage of Heart Disease/Attacks:   {round(df[\"HeartDiseaseorAttack\"].value_counts()[1] / len(df) * 100, 2)}%')"
   ]
  },
  {
   "cell_type": "code",
   "execution_count": 11,
   "id": "8697e60e",
   "metadata": {
    "execution": {
     "iopub.execute_input": "2022-01-04T23:34:16.022113Z",
     "iopub.status.busy": "2022-01-04T23:34:16.021397Z",
     "iopub.status.idle": "2022-01-04T23:34:16.439011Z",
     "shell.execute_reply": "2022-01-04T23:34:16.439612Z",
     "shell.execute_reply.started": "2022-01-04T22:55:04.565005Z"
    },
    "papermill": {
     "duration": 0.455712,
     "end_time": "2022-01-04T23:34:16.439800",
     "exception": false,
     "start_time": "2022-01-04T23:34:15.984088",
     "status": "completed"
    },
    "tags": []
   },
   "outputs": [
    {
     "data": {
      "text/html": [
       "<div>\n",
       "<style scoped>\n",
       "    .dataframe tbody tr th:only-of-type {\n",
       "        vertical-align: middle;\n",
       "    }\n",
       "\n",
       "    .dataframe tbody tr th {\n",
       "        vertical-align: top;\n",
       "    }\n",
       "\n",
       "    .dataframe thead th {\n",
       "        text-align: right;\n",
       "    }\n",
       "</style>\n",
       "<table border=\"1\" class=\"dataframe\">\n",
       "  <thead>\n",
       "    <tr style=\"text-align: right;\">\n",
       "      <th></th>\n",
       "      <th>HeartDiseaseorAttack</th>\n",
       "      <th>HighBP</th>\n",
       "      <th>HighChol</th>\n",
       "      <th>CholCheck</th>\n",
       "      <th>BMI</th>\n",
       "      <th>Smoker</th>\n",
       "      <th>Stroke</th>\n",
       "      <th>Diabetes</th>\n",
       "      <th>PhysActivity</th>\n",
       "      <th>Fruits</th>\n",
       "      <th>...</th>\n",
       "      <th>AnyHealthcare</th>\n",
       "      <th>NoDocbcCost</th>\n",
       "      <th>GenHlth</th>\n",
       "      <th>MentHlth</th>\n",
       "      <th>PhysHlth</th>\n",
       "      <th>DiffWalk</th>\n",
       "      <th>Sex</th>\n",
       "      <th>Age</th>\n",
       "      <th>Education</th>\n",
       "      <th>Income</th>\n",
       "    </tr>\n",
       "  </thead>\n",
       "  <tbody>\n",
       "    <tr>\n",
       "      <th>HeartDiseaseorAttack</th>\n",
       "      <td>1.000000</td>\n",
       "      <td>0.209361</td>\n",
       "      <td>0.180765</td>\n",
       "      <td>0.044206</td>\n",
       "      <td>0.052904</td>\n",
       "      <td>0.114441</td>\n",
       "      <td>0.203002</td>\n",
       "      <td>0.180272</td>\n",
       "      <td>-0.087299</td>\n",
       "      <td>-0.019790</td>\n",
       "      <td>...</td>\n",
       "      <td>0.018734</td>\n",
       "      <td>0.031000</td>\n",
       "      <td>0.258383</td>\n",
       "      <td>0.064621</td>\n",
       "      <td>0.181698</td>\n",
       "      <td>0.212709</td>\n",
       "      <td>0.086096</td>\n",
       "      <td>0.221618</td>\n",
       "      <td>-0.099600</td>\n",
       "      <td>-0.141011</td>\n",
       "    </tr>\n",
       "    <tr>\n",
       "      <th>HighBP</th>\n",
       "      <td>0.209361</td>\n",
       "      <td>1.000000</td>\n",
       "      <td>0.298199</td>\n",
       "      <td>0.098508</td>\n",
       "      <td>0.213748</td>\n",
       "      <td>0.096991</td>\n",
       "      <td>0.129575</td>\n",
       "      <td>0.271596</td>\n",
       "      <td>-0.125267</td>\n",
       "      <td>-0.040555</td>\n",
       "      <td>...</td>\n",
       "      <td>0.038425</td>\n",
       "      <td>0.017358</td>\n",
       "      <td>0.300530</td>\n",
       "      <td>0.056456</td>\n",
       "      <td>0.161212</td>\n",
       "      <td>0.223618</td>\n",
       "      <td>0.052207</td>\n",
       "      <td>0.344452</td>\n",
       "      <td>-0.141358</td>\n",
       "      <td>-0.171235</td>\n",
       "    </tr>\n",
       "    <tr>\n",
       "      <th>HighChol</th>\n",
       "      <td>0.180765</td>\n",
       "      <td>0.298199</td>\n",
       "      <td>1.000000</td>\n",
       "      <td>0.085642</td>\n",
       "      <td>0.106722</td>\n",
       "      <td>0.091299</td>\n",
       "      <td>0.092620</td>\n",
       "      <td>0.209085</td>\n",
       "      <td>-0.078046</td>\n",
       "      <td>-0.040859</td>\n",
       "      <td>...</td>\n",
       "      <td>0.042230</td>\n",
       "      <td>0.013310</td>\n",
       "      <td>0.208426</td>\n",
       "      <td>0.062069</td>\n",
       "      <td>0.121751</td>\n",
       "      <td>0.144672</td>\n",
       "      <td>0.031205</td>\n",
       "      <td>0.272318</td>\n",
       "      <td>-0.070802</td>\n",
       "      <td>-0.085459</td>\n",
       "    </tr>\n",
       "    <tr>\n",
       "      <th>CholCheck</th>\n",
       "      <td>0.044206</td>\n",
       "      <td>0.098508</td>\n",
       "      <td>0.085642</td>\n",
       "      <td>1.000000</td>\n",
       "      <td>0.034495</td>\n",
       "      <td>-0.009929</td>\n",
       "      <td>0.024158</td>\n",
       "      <td>0.067546</td>\n",
       "      <td>0.004190</td>\n",
       "      <td>0.023849</td>\n",
       "      <td>...</td>\n",
       "      <td>0.117626</td>\n",
       "      <td>-0.058255</td>\n",
       "      <td>0.046589</td>\n",
       "      <td>-0.008366</td>\n",
       "      <td>0.031775</td>\n",
       "      <td>0.040585</td>\n",
       "      <td>-0.022115</td>\n",
       "      <td>0.090321</td>\n",
       "      <td>0.001510</td>\n",
       "      <td>0.014259</td>\n",
       "    </tr>\n",
       "    <tr>\n",
       "      <th>BMI</th>\n",
       "      <td>0.052904</td>\n",
       "      <td>0.213748</td>\n",
       "      <td>0.106722</td>\n",
       "      <td>0.034495</td>\n",
       "      <td>1.000000</td>\n",
       "      <td>0.013804</td>\n",
       "      <td>0.020153</td>\n",
       "      <td>0.224379</td>\n",
       "      <td>-0.147294</td>\n",
       "      <td>-0.087518</td>\n",
       "      <td>...</td>\n",
       "      <td>-0.018471</td>\n",
       "      <td>0.058206</td>\n",
       "      <td>0.239185</td>\n",
       "      <td>0.085310</td>\n",
       "      <td>0.121141</td>\n",
       "      <td>0.197078</td>\n",
       "      <td>0.042950</td>\n",
       "      <td>-0.036618</td>\n",
       "      <td>-0.103932</td>\n",
       "      <td>-0.100069</td>\n",
       "    </tr>\n",
       "    <tr>\n",
       "      <th>Smoker</th>\n",
       "      <td>0.114441</td>\n",
       "      <td>0.096991</td>\n",
       "      <td>0.091299</td>\n",
       "      <td>-0.009929</td>\n",
       "      <td>0.013804</td>\n",
       "      <td>1.000000</td>\n",
       "      <td>0.061173</td>\n",
       "      <td>0.062914</td>\n",
       "      <td>-0.087401</td>\n",
       "      <td>-0.077666</td>\n",
       "      <td>...</td>\n",
       "      <td>-0.023251</td>\n",
       "      <td>0.048946</td>\n",
       "      <td>0.163143</td>\n",
       "      <td>0.092196</td>\n",
       "      <td>0.116460</td>\n",
       "      <td>0.122463</td>\n",
       "      <td>0.093662</td>\n",
       "      <td>0.120641</td>\n",
       "      <td>-0.161955</td>\n",
       "      <td>-0.123937</td>\n",
       "    </tr>\n",
       "    <tr>\n",
       "      <th>Stroke</th>\n",
       "      <td>0.203002</td>\n",
       "      <td>0.129575</td>\n",
       "      <td>0.092620</td>\n",
       "      <td>0.024158</td>\n",
       "      <td>0.020153</td>\n",
       "      <td>0.061173</td>\n",
       "      <td>1.000000</td>\n",
       "      <td>0.107179</td>\n",
       "      <td>-0.069151</td>\n",
       "      <td>-0.013389</td>\n",
       "      <td>...</td>\n",
       "      <td>0.008776</td>\n",
       "      <td>0.034804</td>\n",
       "      <td>0.177942</td>\n",
       "      <td>0.070172</td>\n",
       "      <td>0.148944</td>\n",
       "      <td>0.176567</td>\n",
       "      <td>0.002978</td>\n",
       "      <td>0.126974</td>\n",
       "      <td>-0.076009</td>\n",
       "      <td>-0.128599</td>\n",
       "    </tr>\n",
       "    <tr>\n",
       "      <th>Diabetes</th>\n",
       "      <td>0.180272</td>\n",
       "      <td>0.271596</td>\n",
       "      <td>0.209085</td>\n",
       "      <td>0.067546</td>\n",
       "      <td>0.224379</td>\n",
       "      <td>0.062914</td>\n",
       "      <td>0.107179</td>\n",
       "      <td>1.000000</td>\n",
       "      <td>-0.121947</td>\n",
       "      <td>-0.042192</td>\n",
       "      <td>...</td>\n",
       "      <td>0.015410</td>\n",
       "      <td>0.035436</td>\n",
       "      <td>0.302587</td>\n",
       "      <td>0.073507</td>\n",
       "      <td>0.176287</td>\n",
       "      <td>0.224239</td>\n",
       "      <td>0.031040</td>\n",
       "      <td>0.185026</td>\n",
       "      <td>-0.130517</td>\n",
       "      <td>-0.171483</td>\n",
       "    </tr>\n",
       "    <tr>\n",
       "      <th>PhysActivity</th>\n",
       "      <td>-0.087299</td>\n",
       "      <td>-0.125267</td>\n",
       "      <td>-0.078046</td>\n",
       "      <td>0.004190</td>\n",
       "      <td>-0.147294</td>\n",
       "      <td>-0.087401</td>\n",
       "      <td>-0.069151</td>\n",
       "      <td>-0.121947</td>\n",
       "      <td>1.000000</td>\n",
       "      <td>0.142756</td>\n",
       "      <td>...</td>\n",
       "      <td>0.035505</td>\n",
       "      <td>-0.061638</td>\n",
       "      <td>-0.266186</td>\n",
       "      <td>-0.125587</td>\n",
       "      <td>-0.219230</td>\n",
       "      <td>-0.253174</td>\n",
       "      <td>0.032482</td>\n",
       "      <td>-0.092511</td>\n",
       "      <td>0.199658</td>\n",
       "      <td>0.198539</td>\n",
       "    </tr>\n",
       "    <tr>\n",
       "      <th>Fruits</th>\n",
       "      <td>-0.019790</td>\n",
       "      <td>-0.040555</td>\n",
       "      <td>-0.040859</td>\n",
       "      <td>0.023849</td>\n",
       "      <td>-0.087518</td>\n",
       "      <td>-0.077666</td>\n",
       "      <td>-0.013389</td>\n",
       "      <td>-0.042192</td>\n",
       "      <td>0.142756</td>\n",
       "      <td>1.000000</td>\n",
       "      <td>...</td>\n",
       "      <td>0.031544</td>\n",
       "      <td>-0.044243</td>\n",
       "      <td>-0.103854</td>\n",
       "      <td>-0.068217</td>\n",
       "      <td>-0.044633</td>\n",
       "      <td>-0.048352</td>\n",
       "      <td>-0.091175</td>\n",
       "      <td>0.064547</td>\n",
       "      <td>0.110187</td>\n",
       "      <td>0.079929</td>\n",
       "    </tr>\n",
       "    <tr>\n",
       "      <th>Veggies</th>\n",
       "      <td>-0.039167</td>\n",
       "      <td>-0.061266</td>\n",
       "      <td>-0.039874</td>\n",
       "      <td>0.006121</td>\n",
       "      <td>-0.062275</td>\n",
       "      <td>-0.030678</td>\n",
       "      <td>-0.041124</td>\n",
       "      <td>-0.058972</td>\n",
       "      <td>0.153150</td>\n",
       "      <td>0.254342</td>\n",
       "      <td>...</td>\n",
       "      <td>0.029584</td>\n",
       "      <td>-0.032232</td>\n",
       "      <td>-0.123066</td>\n",
       "      <td>-0.058884</td>\n",
       "      <td>-0.064290</td>\n",
       "      <td>-0.080506</td>\n",
       "      <td>-0.064765</td>\n",
       "      <td>-0.009771</td>\n",
       "      <td>0.154329</td>\n",
       "      <td>0.151087</td>\n",
       "    </tr>\n",
       "    <tr>\n",
       "      <th>HvyAlcoholConsump</th>\n",
       "      <td>-0.028991</td>\n",
       "      <td>-0.003972</td>\n",
       "      <td>-0.011543</td>\n",
       "      <td>-0.023730</td>\n",
       "      <td>-0.048736</td>\n",
       "      <td>0.101619</td>\n",
       "      <td>-0.016950</td>\n",
       "      <td>-0.057882</td>\n",
       "      <td>0.012392</td>\n",
       "      <td>-0.035288</td>\n",
       "      <td>...</td>\n",
       "      <td>-0.010488</td>\n",
       "      <td>0.004684</td>\n",
       "      <td>-0.036724</td>\n",
       "      <td>0.024716</td>\n",
       "      <td>-0.026415</td>\n",
       "      <td>-0.037668</td>\n",
       "      <td>0.005740</td>\n",
       "      <td>-0.034578</td>\n",
       "      <td>0.023997</td>\n",
       "      <td>0.053619</td>\n",
       "    </tr>\n",
       "    <tr>\n",
       "      <th>AnyHealthcare</th>\n",
       "      <td>0.018734</td>\n",
       "      <td>0.038425</td>\n",
       "      <td>0.042230</td>\n",
       "      <td>0.117626</td>\n",
       "      <td>-0.018471</td>\n",
       "      <td>-0.023251</td>\n",
       "      <td>0.008776</td>\n",
       "      <td>0.015410</td>\n",
       "      <td>0.035505</td>\n",
       "      <td>0.031544</td>\n",
       "      <td>...</td>\n",
       "      <td>1.000000</td>\n",
       "      <td>-0.232532</td>\n",
       "      <td>-0.040817</td>\n",
       "      <td>-0.052707</td>\n",
       "      <td>-0.008276</td>\n",
       "      <td>0.007074</td>\n",
       "      <td>-0.019405</td>\n",
       "      <td>0.138046</td>\n",
       "      <td>0.122514</td>\n",
       "      <td>0.157999</td>\n",
       "    </tr>\n",
       "    <tr>\n",
       "      <th>NoDocbcCost</th>\n",
       "      <td>0.031000</td>\n",
       "      <td>0.017358</td>\n",
       "      <td>0.013310</td>\n",
       "      <td>-0.058255</td>\n",
       "      <td>0.058206</td>\n",
       "      <td>0.048946</td>\n",
       "      <td>0.034804</td>\n",
       "      <td>0.035436</td>\n",
       "      <td>-0.061638</td>\n",
       "      <td>-0.044243</td>\n",
       "      <td>...</td>\n",
       "      <td>-0.232532</td>\n",
       "      <td>1.000000</td>\n",
       "      <td>0.166397</td>\n",
       "      <td>0.192107</td>\n",
       "      <td>0.148998</td>\n",
       "      <td>0.118447</td>\n",
       "      <td>-0.044931</td>\n",
       "      <td>-0.119777</td>\n",
       "      <td>-0.100701</td>\n",
       "      <td>-0.203182</td>\n",
       "    </tr>\n",
       "    <tr>\n",
       "      <th>GenHlth</th>\n",
       "      <td>0.258383</td>\n",
       "      <td>0.300530</td>\n",
       "      <td>0.208426</td>\n",
       "      <td>0.046589</td>\n",
       "      <td>0.239185</td>\n",
       "      <td>0.163143</td>\n",
       "      <td>0.177942</td>\n",
       "      <td>0.302587</td>\n",
       "      <td>-0.266186</td>\n",
       "      <td>-0.103854</td>\n",
       "      <td>...</td>\n",
       "      <td>-0.040817</td>\n",
       "      <td>0.166397</td>\n",
       "      <td>1.000000</td>\n",
       "      <td>0.301674</td>\n",
       "      <td>0.524364</td>\n",
       "      <td>0.456920</td>\n",
       "      <td>-0.006091</td>\n",
       "      <td>0.152450</td>\n",
       "      <td>-0.284912</td>\n",
       "      <td>-0.370014</td>\n",
       "    </tr>\n",
       "    <tr>\n",
       "      <th>MentHlth</th>\n",
       "      <td>0.064621</td>\n",
       "      <td>0.056456</td>\n",
       "      <td>0.062069</td>\n",
       "      <td>-0.008366</td>\n",
       "      <td>0.085310</td>\n",
       "      <td>0.092196</td>\n",
       "      <td>0.070172</td>\n",
       "      <td>0.073507</td>\n",
       "      <td>-0.125587</td>\n",
       "      <td>-0.068217</td>\n",
       "      <td>...</td>\n",
       "      <td>-0.052707</td>\n",
       "      <td>0.192107</td>\n",
       "      <td>0.301674</td>\n",
       "      <td>1.000000</td>\n",
       "      <td>0.353619</td>\n",
       "      <td>0.233688</td>\n",
       "      <td>-0.080705</td>\n",
       "      <td>-0.092068</td>\n",
       "      <td>-0.101830</td>\n",
       "      <td>-0.209806</td>\n",
       "    </tr>\n",
       "    <tr>\n",
       "      <th>PhysHlth</th>\n",
       "      <td>0.181698</td>\n",
       "      <td>0.161212</td>\n",
       "      <td>0.121751</td>\n",
       "      <td>0.031775</td>\n",
       "      <td>0.121141</td>\n",
       "      <td>0.116460</td>\n",
       "      <td>0.148944</td>\n",
       "      <td>0.176287</td>\n",
       "      <td>-0.219230</td>\n",
       "      <td>-0.044633</td>\n",
       "      <td>...</td>\n",
       "      <td>-0.008276</td>\n",
       "      <td>0.148998</td>\n",
       "      <td>0.524364</td>\n",
       "      <td>0.353619</td>\n",
       "      <td>1.000000</td>\n",
       "      <td>0.478417</td>\n",
       "      <td>-0.043137</td>\n",
       "      <td>0.099130</td>\n",
       "      <td>-0.155093</td>\n",
       "      <td>-0.266799</td>\n",
       "    </tr>\n",
       "    <tr>\n",
       "      <th>DiffWalk</th>\n",
       "      <td>0.212709</td>\n",
       "      <td>0.223618</td>\n",
       "      <td>0.144672</td>\n",
       "      <td>0.040585</td>\n",
       "      <td>0.197078</td>\n",
       "      <td>0.122463</td>\n",
       "      <td>0.176567</td>\n",
       "      <td>0.224239</td>\n",
       "      <td>-0.253174</td>\n",
       "      <td>-0.048352</td>\n",
       "      <td>...</td>\n",
       "      <td>0.007074</td>\n",
       "      <td>0.118447</td>\n",
       "      <td>0.456920</td>\n",
       "      <td>0.233688</td>\n",
       "      <td>0.478417</td>\n",
       "      <td>1.000000</td>\n",
       "      <td>-0.070299</td>\n",
       "      <td>0.204450</td>\n",
       "      <td>-0.192642</td>\n",
       "      <td>-0.320124</td>\n",
       "    </tr>\n",
       "    <tr>\n",
       "      <th>Sex</th>\n",
       "      <td>0.086096</td>\n",
       "      <td>0.052207</td>\n",
       "      <td>0.031205</td>\n",
       "      <td>-0.022115</td>\n",
       "      <td>0.042950</td>\n",
       "      <td>0.093662</td>\n",
       "      <td>0.002978</td>\n",
       "      <td>0.031040</td>\n",
       "      <td>0.032482</td>\n",
       "      <td>-0.091175</td>\n",
       "      <td>...</td>\n",
       "      <td>-0.019405</td>\n",
       "      <td>-0.044931</td>\n",
       "      <td>-0.006091</td>\n",
       "      <td>-0.080705</td>\n",
       "      <td>-0.043137</td>\n",
       "      <td>-0.070299</td>\n",
       "      <td>1.000000</td>\n",
       "      <td>-0.027340</td>\n",
       "      <td>0.019480</td>\n",
       "      <td>0.127141</td>\n",
       "    </tr>\n",
       "    <tr>\n",
       "      <th>Age</th>\n",
       "      <td>0.221618</td>\n",
       "      <td>0.344452</td>\n",
       "      <td>0.272318</td>\n",
       "      <td>0.090321</td>\n",
       "      <td>-0.036618</td>\n",
       "      <td>0.120641</td>\n",
       "      <td>0.126974</td>\n",
       "      <td>0.185026</td>\n",
       "      <td>-0.092511</td>\n",
       "      <td>0.064547</td>\n",
       "      <td>...</td>\n",
       "      <td>0.138046</td>\n",
       "      <td>-0.119777</td>\n",
       "      <td>0.152450</td>\n",
       "      <td>-0.092068</td>\n",
       "      <td>0.099130</td>\n",
       "      <td>0.204450</td>\n",
       "      <td>-0.027340</td>\n",
       "      <td>1.000000</td>\n",
       "      <td>-0.101901</td>\n",
       "      <td>-0.127775</td>\n",
       "    </tr>\n",
       "    <tr>\n",
       "      <th>Education</th>\n",
       "      <td>-0.099600</td>\n",
       "      <td>-0.141358</td>\n",
       "      <td>-0.070802</td>\n",
       "      <td>0.001510</td>\n",
       "      <td>-0.103932</td>\n",
       "      <td>-0.161955</td>\n",
       "      <td>-0.076009</td>\n",
       "      <td>-0.130517</td>\n",
       "      <td>0.199658</td>\n",
       "      <td>0.110187</td>\n",
       "      <td>...</td>\n",
       "      <td>0.122514</td>\n",
       "      <td>-0.100701</td>\n",
       "      <td>-0.284912</td>\n",
       "      <td>-0.101830</td>\n",
       "      <td>-0.155093</td>\n",
       "      <td>-0.192642</td>\n",
       "      <td>0.019480</td>\n",
       "      <td>-0.101901</td>\n",
       "      <td>1.000000</td>\n",
       "      <td>0.449106</td>\n",
       "    </tr>\n",
       "    <tr>\n",
       "      <th>Income</th>\n",
       "      <td>-0.141011</td>\n",
       "      <td>-0.171235</td>\n",
       "      <td>-0.085459</td>\n",
       "      <td>0.014259</td>\n",
       "      <td>-0.100069</td>\n",
       "      <td>-0.123937</td>\n",
       "      <td>-0.128599</td>\n",
       "      <td>-0.171483</td>\n",
       "      <td>0.198539</td>\n",
       "      <td>0.079929</td>\n",
       "      <td>...</td>\n",
       "      <td>0.157999</td>\n",
       "      <td>-0.203182</td>\n",
       "      <td>-0.370014</td>\n",
       "      <td>-0.209806</td>\n",
       "      <td>-0.266799</td>\n",
       "      <td>-0.320124</td>\n",
       "      <td>0.127141</td>\n",
       "      <td>-0.127775</td>\n",
       "      <td>0.449106</td>\n",
       "      <td>1.000000</td>\n",
       "    </tr>\n",
       "  </tbody>\n",
       "</table>\n",
       "<p>22 rows × 22 columns</p>\n",
       "</div>"
      ],
      "text/plain": [
       "                      HeartDiseaseorAttack    HighBP  HighChol  CholCheck  \\\n",
       "HeartDiseaseorAttack              1.000000  0.209361  0.180765   0.044206   \n",
       "HighBP                            0.209361  1.000000  0.298199   0.098508   \n",
       "HighChol                          0.180765  0.298199  1.000000   0.085642   \n",
       "CholCheck                         0.044206  0.098508  0.085642   1.000000   \n",
       "BMI                               0.052904  0.213748  0.106722   0.034495   \n",
       "Smoker                            0.114441  0.096991  0.091299  -0.009929   \n",
       "Stroke                            0.203002  0.129575  0.092620   0.024158   \n",
       "Diabetes                          0.180272  0.271596  0.209085   0.067546   \n",
       "PhysActivity                     -0.087299 -0.125267 -0.078046   0.004190   \n",
       "Fruits                           -0.019790 -0.040555 -0.040859   0.023849   \n",
       "Veggies                          -0.039167 -0.061266 -0.039874   0.006121   \n",
       "HvyAlcoholConsump                -0.028991 -0.003972 -0.011543  -0.023730   \n",
       "AnyHealthcare                     0.018734  0.038425  0.042230   0.117626   \n",
       "NoDocbcCost                       0.031000  0.017358  0.013310  -0.058255   \n",
       "GenHlth                           0.258383  0.300530  0.208426   0.046589   \n",
       "MentHlth                          0.064621  0.056456  0.062069  -0.008366   \n",
       "PhysHlth                          0.181698  0.161212  0.121751   0.031775   \n",
       "DiffWalk                          0.212709  0.223618  0.144672   0.040585   \n",
       "Sex                               0.086096  0.052207  0.031205  -0.022115   \n",
       "Age                               0.221618  0.344452  0.272318   0.090321   \n",
       "Education                        -0.099600 -0.141358 -0.070802   0.001510   \n",
       "Income                           -0.141011 -0.171235 -0.085459   0.014259   \n",
       "\n",
       "                           BMI    Smoker    Stroke  Diabetes  PhysActivity  \\\n",
       "HeartDiseaseorAttack  0.052904  0.114441  0.203002  0.180272     -0.087299   \n",
       "HighBP                0.213748  0.096991  0.129575  0.271596     -0.125267   \n",
       "HighChol              0.106722  0.091299  0.092620  0.209085     -0.078046   \n",
       "CholCheck             0.034495 -0.009929  0.024158  0.067546      0.004190   \n",
       "BMI                   1.000000  0.013804  0.020153  0.224379     -0.147294   \n",
       "Smoker                0.013804  1.000000  0.061173  0.062914     -0.087401   \n",
       "Stroke                0.020153  0.061173  1.000000  0.107179     -0.069151   \n",
       "Diabetes              0.224379  0.062914  0.107179  1.000000     -0.121947   \n",
       "PhysActivity         -0.147294 -0.087401 -0.069151 -0.121947      1.000000   \n",
       "Fruits               -0.087518 -0.077666 -0.013389 -0.042192      0.142756   \n",
       "Veggies              -0.062275 -0.030678 -0.041124 -0.058972      0.153150   \n",
       "HvyAlcoholConsump    -0.048736  0.101619 -0.016950 -0.057882      0.012392   \n",
       "AnyHealthcare        -0.018471 -0.023251  0.008776  0.015410      0.035505   \n",
       "NoDocbcCost           0.058206  0.048946  0.034804  0.035436     -0.061638   \n",
       "GenHlth               0.239185  0.163143  0.177942  0.302587     -0.266186   \n",
       "MentHlth              0.085310  0.092196  0.070172  0.073507     -0.125587   \n",
       "PhysHlth              0.121141  0.116460  0.148944  0.176287     -0.219230   \n",
       "DiffWalk              0.197078  0.122463  0.176567  0.224239     -0.253174   \n",
       "Sex                   0.042950  0.093662  0.002978  0.031040      0.032482   \n",
       "Age                  -0.036618  0.120641  0.126974  0.185026     -0.092511   \n",
       "Education            -0.103932 -0.161955 -0.076009 -0.130517      0.199658   \n",
       "Income               -0.100069 -0.123937 -0.128599 -0.171483      0.198539   \n",
       "\n",
       "                        Fruits  ...  AnyHealthcare  NoDocbcCost   GenHlth  \\\n",
       "HeartDiseaseorAttack -0.019790  ...       0.018734     0.031000  0.258383   \n",
       "HighBP               -0.040555  ...       0.038425     0.017358  0.300530   \n",
       "HighChol             -0.040859  ...       0.042230     0.013310  0.208426   \n",
       "CholCheck             0.023849  ...       0.117626    -0.058255  0.046589   \n",
       "BMI                  -0.087518  ...      -0.018471     0.058206  0.239185   \n",
       "Smoker               -0.077666  ...      -0.023251     0.048946  0.163143   \n",
       "Stroke               -0.013389  ...       0.008776     0.034804  0.177942   \n",
       "Diabetes             -0.042192  ...       0.015410     0.035436  0.302587   \n",
       "PhysActivity          0.142756  ...       0.035505    -0.061638 -0.266186   \n",
       "Fruits                1.000000  ...       0.031544    -0.044243 -0.103854   \n",
       "Veggies               0.254342  ...       0.029584    -0.032232 -0.123066   \n",
       "HvyAlcoholConsump    -0.035288  ...      -0.010488     0.004684 -0.036724   \n",
       "AnyHealthcare         0.031544  ...       1.000000    -0.232532 -0.040817   \n",
       "NoDocbcCost          -0.044243  ...      -0.232532     1.000000  0.166397   \n",
       "GenHlth              -0.103854  ...      -0.040817     0.166397  1.000000   \n",
       "MentHlth             -0.068217  ...      -0.052707     0.192107  0.301674   \n",
       "PhysHlth             -0.044633  ...      -0.008276     0.148998  0.524364   \n",
       "DiffWalk             -0.048352  ...       0.007074     0.118447  0.456920   \n",
       "Sex                  -0.091175  ...      -0.019405    -0.044931 -0.006091   \n",
       "Age                   0.064547  ...       0.138046    -0.119777  0.152450   \n",
       "Education             0.110187  ...       0.122514    -0.100701 -0.284912   \n",
       "Income                0.079929  ...       0.157999    -0.203182 -0.370014   \n",
       "\n",
       "                      MentHlth  PhysHlth  DiffWalk       Sex       Age  \\\n",
       "HeartDiseaseorAttack  0.064621  0.181698  0.212709  0.086096  0.221618   \n",
       "HighBP                0.056456  0.161212  0.223618  0.052207  0.344452   \n",
       "HighChol              0.062069  0.121751  0.144672  0.031205  0.272318   \n",
       "CholCheck            -0.008366  0.031775  0.040585 -0.022115  0.090321   \n",
       "BMI                   0.085310  0.121141  0.197078  0.042950 -0.036618   \n",
       "Smoker                0.092196  0.116460  0.122463  0.093662  0.120641   \n",
       "Stroke                0.070172  0.148944  0.176567  0.002978  0.126974   \n",
       "Diabetes              0.073507  0.176287  0.224239  0.031040  0.185026   \n",
       "PhysActivity         -0.125587 -0.219230 -0.253174  0.032482 -0.092511   \n",
       "Fruits               -0.068217 -0.044633 -0.048352 -0.091175  0.064547   \n",
       "Veggies              -0.058884 -0.064290 -0.080506 -0.064765 -0.009771   \n",
       "HvyAlcoholConsump     0.024716 -0.026415 -0.037668  0.005740 -0.034578   \n",
       "AnyHealthcare        -0.052707 -0.008276  0.007074 -0.019405  0.138046   \n",
       "NoDocbcCost           0.192107  0.148998  0.118447 -0.044931 -0.119777   \n",
       "GenHlth               0.301674  0.524364  0.456920 -0.006091  0.152450   \n",
       "MentHlth              1.000000  0.353619  0.233688 -0.080705 -0.092068   \n",
       "PhysHlth              0.353619  1.000000  0.478417 -0.043137  0.099130   \n",
       "DiffWalk              0.233688  0.478417  1.000000 -0.070299  0.204450   \n",
       "Sex                  -0.080705 -0.043137 -0.070299  1.000000 -0.027340   \n",
       "Age                  -0.092068  0.099130  0.204450 -0.027340  1.000000   \n",
       "Education            -0.101830 -0.155093 -0.192642  0.019480 -0.101901   \n",
       "Income               -0.209806 -0.266799 -0.320124  0.127141 -0.127775   \n",
       "\n",
       "                      Education    Income  \n",
       "HeartDiseaseorAttack  -0.099600 -0.141011  \n",
       "HighBP                -0.141358 -0.171235  \n",
       "HighChol              -0.070802 -0.085459  \n",
       "CholCheck              0.001510  0.014259  \n",
       "BMI                   -0.103932 -0.100069  \n",
       "Smoker                -0.161955 -0.123937  \n",
       "Stroke                -0.076009 -0.128599  \n",
       "Diabetes              -0.130517 -0.171483  \n",
       "PhysActivity           0.199658  0.198539  \n",
       "Fruits                 0.110187  0.079929  \n",
       "Veggies                0.154329  0.151087  \n",
       "HvyAlcoholConsump      0.023997  0.053619  \n",
       "AnyHealthcare          0.122514  0.157999  \n",
       "NoDocbcCost           -0.100701 -0.203182  \n",
       "GenHlth               -0.284912 -0.370014  \n",
       "MentHlth              -0.101830 -0.209806  \n",
       "PhysHlth              -0.155093 -0.266799  \n",
       "DiffWalk              -0.192642 -0.320124  \n",
       "Sex                    0.019480  0.127141  \n",
       "Age                   -0.101901 -0.127775  \n",
       "Education              1.000000  0.449106  \n",
       "Income                 0.449106  1.000000  \n",
       "\n",
       "[22 rows x 22 columns]"
      ]
     },
     "execution_count": 11,
     "metadata": {},
     "output_type": "execute_result"
    }
   ],
   "source": [
    "# Let's draw some graphs and understand our dataset a little bit\n",
    "df.corr()"
   ]
  },
  {
   "cell_type": "code",
   "execution_count": 12,
   "id": "79c190d3",
   "metadata": {
    "execution": {
     "iopub.execute_input": "2022-01-04T23:34:16.515382Z",
     "iopub.status.busy": "2022-01-04T23:34:16.514667Z",
     "iopub.status.idle": "2022-01-04T23:34:19.896420Z",
     "shell.execute_reply": "2022-01-04T23:34:19.897089Z",
     "shell.execute_reply.started": "2022-01-04T22:55:04.983934Z"
    },
    "papermill": {
     "duration": 3.422618,
     "end_time": "2022-01-04T23:34:19.897284",
     "exception": false,
     "start_time": "2022-01-04T23:34:16.474666",
     "status": "completed"
    },
    "tags": []
   },
   "outputs": [
    {
     "data": {
      "text/plain": [
       "(22.5, 0.0)"
      ]
     },
     "execution_count": 12,
     "metadata": {},
     "output_type": "execute_result"
    },
    {
     "data": {
      "image/png": "[encoded data removed]",
      "text/plain": [
       "<Figure size 1080x720 with 2 Axes>"
      ]
     },
     "metadata": {
      "needs_background": "light"
     },
     "output_type": "display_data"
    }
   ],
   "source": [
    "corr_matrix = df.corr()\n",
    "fig, ax = plt.subplots(figsize=(15,10))\n",
    "ax = sns.heatmap(corr_matrix,\n",
    "                 annot=True,\n",
    "                 linewidth=0.5,\n",
    "                 fmt='.2f',\n",
    "                 cmap='PuRd')\n",
    "bottom, top = ax.get_ylim()\n",
    "ax.set_ylim(bottom + 0.5)"
   ]
  },
  {
   "cell_type": "markdown",
   "id": "18863369",
   "metadata": {
    "papermill": {
     "duration": 0.041609,
     "end_time": "2022-01-04T23:34:19.981026",
     "exception": false,
     "start_time": "2022-01-04T23:34:19.939417",
     "status": "completed"
    },
    "tags": []
   },
   "source": [
    "* We can see that certain columns such as **Income** & **Education** have a *strong negative correlation* with our target (HeartDiseaseorAttack) column"
   ]
  },
  {
   "cell_type": "code",
   "execution_count": 13,
   "id": "283bb675",
   "metadata": {
    "execution": {
     "iopub.execute_input": "2022-01-04T23:34:20.094347Z",
     "iopub.status.busy": "2022-01-04T23:34:20.075498Z",
     "iopub.status.idle": "2022-01-04T23:34:20.168855Z",
     "shell.execute_reply": "2022-01-04T23:34:20.168175Z",
     "shell.execute_reply.started": "2022-01-04T22:55:08.327989Z"
    },
    "papermill": {
     "duration": 0.144775,
     "end_time": "2022-01-04T23:34:20.169009",
     "exception": false,
     "start_time": "2022-01-04T23:34:20.024234",
     "status": "completed"
    },
    "tags": []
   },
   "outputs": [],
   "source": [
    "# Let's make the models for our data\n",
    "# Defining our X and y and splitting them into a training set and a testing set\n",
    "\n",
    "X = df.drop('HeartDiseaseorAttack', axis=1)\n",
    "y = df['HeartDiseaseorAttack']\n",
    "\n",
    "X_train, X_test, y_train, y_test = train_test_split(X, y, test_size=0.2)\n",
    "\n",
    "# The 3 models I've chosen for this dataset\n",
    "\n",
    "models = {'Logistic Regression': LogisticRegression(solver='liblinear'),\n",
    "          'KNN': KNeighborsClassifier(),\n",
    "          'Random Forest': RandomForestClassifier()}\n",
    "\n",
    "\n",
    "def fit_and_score_models(models, X_train, X_test, y_train, y_test):\n",
    "    \"\"\"\n",
    "    A function to fit and evaluate the specified ML models\n",
    "    \"\"\"\n",
    "    model_scores = {}\n",
    "    \n",
    "    for name, model in models.items():\n",
    "        model.fit(X_train, y_train)\n",
    "        model_scores[name] = model.score(X_test, y_test)\n",
    "    return model_scores"
   ]
  },
  {
   "cell_type": "code",
   "execution_count": 16,
   "id": "54838d6a",
   "metadata": {
    "execution": {
     "iopub.execute_input": "2022-01-04T23:34:20.259407Z",
     "iopub.status.busy": "2022-01-04T23:34:20.258559Z",
     "iopub.status.idle": "2022-01-04T23:35:35.490738Z",
     "shell.execute_reply": "2022-01-04T23:35:35.491250Z",
     "shell.execute_reply.started": "2022-01-04T22:55:08.433529Z"
    },
    "papermill": {
     "duration": 75.281058,
     "end_time": "2022-01-04T23:35:35.491459",
     "exception": false,
     "start_time": "2022-01-04T23:34:20.210401",
     "status": "completed"
    },
    "tags": []
   },
   "outputs": [
    {
     "data": {
      "text/plain": [
       "{'Logistic Regression': 0.9078366445916115,\n",
       " 'KNN': 0.896050141911069,\n",
       " 'Random Forest': 0.9021799116997793}"
      ]
     },
     "execution_count": 16,
     "metadata": {},
     "output_type": "execute_result"
    }
   ],
   "source": [
    "model_scores = fit_and_score_models(models, X_train, X_test, y_train, y_test)\n",
    "model_scores"
   ]
  },
  {
   "cell_type": "markdown",
   "id": "b58e3a8c",
   "metadata": {
    "papermill": {
     "duration": 0.041033,
     "end_time": "2022-01-04T23:35:35.573685",
     "exception": false,
     "start_time": "2022-01-04T23:35:35.532652",
     "status": "completed"
    },
    "tags": []
   },
   "source": [
    "# *** Logistic Regression seems to have scored the highest accuracy**"
   ]
  },
  {
   "cell_type": "code",
   "execution_count": 17,
   "id": "450ad2a4",
   "metadata": {
    "execution": {
     "iopub.execute_input": "2022-01-04T23:35:35.664165Z",
     "iopub.status.busy": "2022-01-04T23:35:35.663465Z",
     "iopub.status.idle": "2022-01-04T23:35:35.895491Z",
     "shell.execute_reply": "2022-01-04T23:35:35.894788Z",
     "shell.execute_reply.started": "2022-01-04T22:56:19.655474Z"
    },
    "papermill": {
     "duration": 0.279279,
     "end_time": "2022-01-04T23:35:35.895638",
     "exception": false,
     "start_time": "2022-01-04T23:35:35.616359",
     "status": "completed"
    },
    "tags": []
   },
   "outputs": [
    {
     "data": {
      "image/png": "[encoded data removed]",
      "text/plain": [
       "<Figure size 1080x720 with 1 Axes>"
      ]
     },
     "metadata": {
      "needs_background": "light"
     },
     "output_type": "display_data"
    }
   ],
   "source": [
    "# Let's visualize the data\n",
    "accuray_comparison_graph = pd.DataFrame(model_scores, index=['Accuracy']).T.plot.bar(figsize=(15,10))\n",
    "plt.xticks(rotation=0);"
   ]
  },
  {
   "cell_type": "code",
   "execution_count": null,
   "id": "a7672cb3",
   "metadata": {
    "execution": {
     "iopub.execute_input": "2022-01-04T23:35:35.984118Z",
     "iopub.status.busy": "2022-01-04T23:35:35.983377Z",
     "iopub.status.idle": "2022-01-04T23:39:36.434296Z",
     "shell.execute_reply": "2022-01-04T23:39:36.433564Z",
     "shell.execute_reply.started": "2022-01-04T22:56:19.895839Z"
    },
    "papermill": {
     "duration": 240.49611,
     "end_time": "2022-01-04T23:39:36.434470",
     "exception": false,
     "start_time": "2022-01-04T23:35:35.938360",
     "status": "completed"
    },
    "tags": []
   },
   "outputs": [],
   "source": [
    "# I'm not quite satistifed with the scores, let's adjust the hyperparameters to see how the models perform\n",
    "# Creating a grid for the LogisticRegression hyperparameters\n",
    "logistic_grid = {'C': np.logspace(-4, 4, 20),\n",
    "                 'solver': ['liblinear']}\n",
    "\n",
    "# Creating a grid for the RandomForestClassifier hyperparameters\n",
    "random_forest_grid = {'n_estimators': np.arange(10, 250, 50),\n",
    "                      'max_depth': [None, 3, 5, 10],\n",
    "                      'min_samples_split': np.arange(2, 10, 2),\n",
    "                      'min_samples_leaf': np.arange(1, 10, 2)}\n",
    "\n",
    "# Using RandomSearchCV to search for random hyperparameters in LogisticRegression\n",
    "rs_logistic_reg = RandomizedSearchCV(LogisticRegression(),\n",
    "                                     param_distributions=logistic_grid,\n",
    "                                     cv=5,\n",
    "                                     n_iter=20,\n",
    "                                     verbose=True)\n",
    "\n",
    "# Fit the model using the new search hyperparams\n",
    "rs_logistic_reg.fit(X_train, y_train)"
   ]
  },
  {
   "cell_type": "markdown",
   "id": "5bdaf67a",
   "metadata": {
    "papermill": {
     "duration": 0.042887,
     "end_time": "2022-01-04T23:39:36.520888",
     "exception": false,
     "start_time": "2022-01-04T23:39:36.478001",
     "status": "completed"
    },
    "tags": []
   },
   "source": [
    "### A quick note: [Parallel(n_jobs=1)] as you see above is how many processors the model will use to get trained. The default value is n_jobs=1. If you want it to use ALL processors, set n_jobs=-1 and if you want it to use all but ONE then use n_jobs=-2\n",
    "\n",
    "For more info refer to the scikit-learn documentation"
   ]
  },
  {
   "cell_type": "code",
   "execution_count": null,
   "id": "224c839c",
   "metadata": {
    "execution": {
     "iopub.execute_input": "2022-01-04T23:39:36.610859Z",
     "iopub.status.busy": "2022-01-04T23:39:36.610159Z",
     "iopub.status.idle": "2022-01-04T23:39:36.615060Z",
     "shell.execute_reply": "2022-01-04T23:39:36.615531Z",
     "shell.execute_reply.started": "2022-01-04T23:00:20.459199Z"
    },
    "papermill": {
     "duration": 0.051581,
     "end_time": "2022-01-04T23:39:36.615718",
     "exception": false,
     "start_time": "2022-01-04T23:39:36.564137",
     "status": "completed"
    },
    "tags": []
   },
   "outputs": [],
   "source": [
    "# Checking the best parameters for Logistic Regression\n",
    "rs_logistic_reg.best_params_"
   ]
  },
  {
   "cell_type": "code",
   "execution_count": null,
   "id": "8dab708e",
   "metadata": {
    "execution": {
     "iopub.execute_input": "2022-01-04T23:39:36.705969Z",
     "iopub.status.busy": "2022-01-04T23:39:36.705200Z",
     "iopub.status.idle": "2022-01-04T23:39:36.729364Z",
     "shell.execute_reply": "2022-01-04T23:39:36.728382Z",
     "shell.execute_reply.started": "2022-01-04T23:00:20.466989Z"
    },
    "papermill": {
     "duration": 0.07076,
     "end_time": "2022-01-04T23:39:36.729613",
     "exception": false,
     "start_time": "2022-01-04T23:39:36.658853",
     "status": "completed"
    },
    "tags": []
   },
   "outputs": [],
   "source": [
    "# Let's check the (Hopefully improved) performance\n",
    "rs_logistic_reg.score(X_test, y_test)"
   ]
  },
  {
   "cell_type": "code",
   "execution_count": null,
   "id": "3eccac0c",
   "metadata": {
    "execution": {
     "iopub.execute_input": "2022-01-04T23:39:36.874878Z",
     "iopub.status.busy": "2022-01-04T23:39:36.873772Z",
     "iopub.status.idle": "2022-01-04T23:44:36.675269Z",
     "shell.execute_reply": "2022-01-04T23:44:36.675877Z",
     "shell.execute_reply.started": "2022-01-04T23:00:20.498080Z"
    },
    "papermill": {
     "duration": 299.860473,
     "end_time": "2022-01-04T23:44:36.676071",
     "exception": false,
     "start_time": "2022-01-04T23:39:36.815598",
     "status": "completed"
    },
    "tags": []
   },
   "outputs": [],
   "source": [
    "# Using RandomSearchCV to search for random hyperparameters in RandomForestClassifier\n",
    "rs_random_forest = RandomizedSearchCV(RandomForestClassifier(),\n",
    "                                      param_distributions=random_forest_grid,\n",
    "                                      cv=5,\n",
    "                                      n_iter=5,\n",
    "                                      verbose=True)\n",
    "\n",
    "# Fit the model using the new search hyperparams\n",
    "rs_random_forest.fit(X_train, y_train)"
   ]
  },
  {
   "cell_type": "code",
   "execution_count": null,
   "id": "796c3738",
   "metadata": {
    "execution": {
     "iopub.execute_input": "2022-01-04T23:44:36.769259Z",
     "iopub.status.busy": "2022-01-04T23:44:36.768592Z",
     "iopub.status.idle": "2022-01-04T23:44:36.773708Z",
     "shell.execute_reply": "2022-01-04T23:44:36.774254Z",
     "shell.execute_reply.started": "2022-01-04T23:03:52.179666Z"
    },
    "papermill": {
     "duration": 0.053332,
     "end_time": "2022-01-04T23:44:36.774424",
     "exception": false,
     "start_time": "2022-01-04T23:44:36.721092",
     "status": "completed"
    },
    "tags": []
   },
   "outputs": [],
   "source": [
    "# Checking the best parameters for RandomForestRegression\n",
    "rs_random_forest.best_params_"
   ]
  },
  {
   "cell_type": "code",
   "execution_count": null,
   "id": "bc651de4",
   "metadata": {
    "execution": {
     "iopub.execute_input": "2022-01-04T23:44:36.867955Z",
     "iopub.status.busy": "2022-01-04T23:44:36.867261Z",
     "iopub.status.idle": "2022-01-04T23:44:37.259412Z",
     "shell.execute_reply": "2022-01-04T23:44:37.258845Z",
     "shell.execute_reply.started": "2022-01-04T23:03:52.188314Z"
    },
    "papermill": {
     "duration": 0.439749,
     "end_time": "2022-01-04T23:44:37.259643",
     "exception": false,
     "start_time": "2022-01-04T23:44:36.819894",
     "status": "completed"
    },
    "tags": []
   },
   "outputs": [],
   "source": [
    "# Not much improvement for either models\n",
    "rs_random_forest.score(X_test, y_test)"
   ]
  },
  {
   "cell_type": "markdown",
   "id": "a85d7969",
   "metadata": {
    "papermill": {
     "duration": 0.045673,
     "end_time": "2022-01-04T23:44:37.350899",
     "exception": false,
     "start_time": "2022-01-04T23:44:37.305226",
     "status": "completed"
    },
    "tags": []
   },
   "source": [
    "# I will take the best performing model which is the Logistic Regression model and do a GridSearchCV on the hyperparameters to try and improve our model"
   ]
  },
  {
   "cell_type": "code",
   "execution_count": null,
   "id": "bf54013c",
   "metadata": {
    "execution": {
     "iopub.execute_input": "2022-01-04T23:44:37.448895Z",
     "iopub.status.busy": "2022-01-04T23:44:37.448197Z",
     "iopub.status.idle": "2022-01-04T23:48:38.317696Z",
     "shell.execute_reply": "2022-01-04T23:48:38.317017Z",
     "shell.execute_reply.started": "2022-01-04T23:03:53.520940Z"
    },
    "papermill": {
     "duration": 240.918825,
     "end_time": "2022-01-04T23:48:38.317851",
     "exception": false,
     "start_time": "2022-01-04T23:44:37.399026",
     "status": "completed"
    },
    "tags": []
   },
   "outputs": [],
   "source": [
    "logistic_reg_grid = {'C': np.logspace(-4,4,20),\n",
    "                     'solver': ['liblinear']}\n",
    "\n",
    "gs_logistic_reg = GridSearchCV(LogisticRegression(),\n",
    "                               param_grid=logistic_reg_grid,\n",
    "                               cv=5,\n",
    "                               verbose=True)\n",
    "\n",
    "gs_logistic_reg.fit(X_train, y_train)"
   ]
  },
  {
   "cell_type": "code",
   "execution_count": null,
   "id": "24151ffc",
   "metadata": {
    "execution": {
     "iopub.execute_input": "2022-01-04T23:48:38.414620Z",
     "iopub.status.busy": "2022-01-04T23:48:38.413918Z",
     "iopub.status.idle": "2022-01-04T23:48:38.418825Z",
     "shell.execute_reply": "2022-01-04T23:48:38.419390Z",
     "shell.execute_reply.started": "2022-01-04T23:07:58.640093Z"
    },
    "papermill": {
     "duration": 0.054769,
     "end_time": "2022-01-04T23:48:38.419593",
     "exception": false,
     "start_time": "2022-01-04T23:48:38.364824",
     "status": "completed"
    },
    "tags": []
   },
   "outputs": [],
   "source": [
    "gs_logistic_reg.best_params_"
   ]
  },
  {
   "cell_type": "code",
   "execution_count": null,
   "id": "12b0e116",
   "metadata": {
    "execution": {
     "iopub.execute_input": "2022-01-04T23:48:38.530163Z",
     "iopub.status.busy": "2022-01-04T23:48:38.528891Z",
     "iopub.status.idle": "2022-01-04T23:48:38.546629Z",
     "shell.execute_reply": "2022-01-04T23:48:38.547704Z",
     "shell.execute_reply.started": "2022-01-04T23:07:58.647715Z"
    },
    "papermill": {
     "duration": 0.078734,
     "end_time": "2022-01-04T23:48:38.547992",
     "exception": false,
     "start_time": "2022-01-04T23:48:38.469258",
     "status": "completed"
    },
    "tags": []
   },
   "outputs": [],
   "source": [
    "# We got the same results...\n",
    "gs_logistic_reg.score(X_test, y_test)"
   ]
  },
  {
   "cell_type": "markdown",
   "id": "8d59d9d7",
   "metadata": {
    "papermill": {
     "duration": 0.053535,
     "end_time": "2022-01-04T23:48:38.694100",
     "exception": false,
     "start_time": "2022-01-04T23:48:38.640565",
     "status": "completed"
    },
    "tags": []
   },
   "source": [
    "# Now that we've tried to better the model's accuracy score, let's experiment with different evaluation metrics such as:\n",
    "**1. Confusion_matrix**\n",
    "\n",
    "**2. Precision**\n",
    "\n",
    "**3. Recall**\n",
    "\n",
    "**4. ROC and AUC**\n",
    "\n",
    "**5. F1**\n",
    "\n",
    "**6. Classification_report**"
   ]
  },
  {
   "cell_type": "code",
   "execution_count": null,
   "id": "e686f963",
   "metadata": {
    "execution": {
     "iopub.execute_input": "2022-01-04T23:48:38.799631Z",
     "iopub.status.busy": "2022-01-04T23:48:38.798840Z",
     "iopub.status.idle": "2022-01-04T23:48:39.037803Z",
     "shell.execute_reply": "2022-01-04T23:48:39.037246Z",
     "shell.execute_reply.started": "2022-01-04T23:07:58.682844Z"
    },
    "papermill": {
     "duration": 0.29456,
     "end_time": "2022-01-04T23:48:39.037951",
     "exception": false,
     "start_time": "2022-01-04T23:48:38.743391",
     "status": "completed"
    },
    "tags": []
   },
   "outputs": [],
   "source": [
    "# Let's plot a ROC curve which is the comparison of TPR (True Positive Rate) VS FPR (False Positive Rate)\n",
    "\n",
    "plot_roc_curve(gs_logistic_reg, X_test, y_test);"
   ]
  },
  {
   "cell_type": "code",
   "execution_count": null,
   "id": "59425416",
   "metadata": {
    "execution": {
     "iopub.execute_input": "2022-01-04T23:48:39.139890Z",
     "iopub.status.busy": "2022-01-04T23:48:39.139177Z",
     "iopub.status.idle": "2022-01-04T23:48:39.482984Z",
     "shell.execute_reply": "2022-01-04T23:48:39.482412Z",
     "shell.execute_reply.started": "2022-01-04T23:07:58.968739Z"
    },
    "papermill": {
     "duration": 0.395345,
     "end_time": "2022-01-04T23:48:39.483138",
     "exception": false,
     "start_time": "2022-01-04T23:48:39.087793",
     "status": "completed"
    },
    "tags": []
   },
   "outputs": [],
   "source": [
    "# Let's experiment with the confusion matrix\n",
    "y_preds = gs_logistic_reg.predict(X_test)\n",
    "cm = confusion_matrix(y_test, y_preds, labels=gs_logistic_reg.classes_)\n",
    "\n",
    "disp = ConfusionMatrixDisplay(confusion_matrix=cm)\n",
    "disp.plot(cmap='viridis');\n"
   ]
  },
  {
   "cell_type": "markdown",
   "id": "1c5cfcf8",
   "metadata": {
    "papermill": {
     "duration": 0.051107,
     "end_time": "2022-01-04T23:48:39.585648",
     "exception": false,
     "start_time": "2022-01-04T23:48:39.534541",
     "status": "completed"
    },
    "tags": []
   },
   "source": [
    "## So according to our confusion matrix we have *497* false positives and *4082* false negatives which is something we don't want while classifing whether someone has a heart disease or not"
   ]
  },
  {
   "cell_type": "code",
   "execution_count": null,
   "id": "cfbfde41",
   "metadata": {
    "execution": {
     "iopub.execute_input": "2022-01-04T23:48:39.692418Z",
     "iopub.status.busy": "2022-01-04T23:48:39.690459Z",
     "iopub.status.idle": "2022-01-04T23:48:39.805760Z",
     "shell.execute_reply": "2022-01-04T23:48:39.805143Z",
     "shell.execute_reply.started": "2022-01-04T23:07:59.332863Z"
    },
    "papermill": {
     "duration": 0.168664,
     "end_time": "2022-01-04T23:48:39.805918",
     "exception": false,
     "start_time": "2022-01-04T23:48:39.637254",
     "status": "completed"
    },
    "tags": []
   },
   "outputs": [],
   "source": [
    "# Let's make a Classification report which gives us a combination of evaluation metrics such as (Precision, Recall, F1-score, Support)\n",
    "\n",
    "print(classification_report(y_test, y_preds))"
   ]
  },
  {
   "cell_type": "markdown",
   "id": "79951c48",
   "metadata": {
    "papermill": {
     "duration": 0.050338,
     "end_time": "2022-01-04T23:48:39.907169",
     "exception": false,
     "start_time": "2022-01-04T23:48:39.856831",
     "status": "completed"
    },
    "tags": []
   },
   "source": [
    "### The evaluation metrics for those who don't have a heart disease seems solid but if you divert your attention to the patients who do have a heart disease, you can see that we have a recall score of 0.13 which is super low. **Recall** Indicates the proportion of actual positives which were correctly classified. \n",
    "\n",
    "* So a model which produces **no false negatives has a recall of 1.0** but as we saw previously, our model has 4083 false negative predictions\n",
    "* We can pay attention to the **macro average** which is the average precision, recall, and f1-score. If you have class imbalances, which we do in this case, this is the number you want to pay attention to because macro average doesn't take class inbalance into account\n",
    "\n",
    "## BUT\n",
    "\n",
    "* The numbers in the **classification report** are calculated on 1 single test split. We will now be performing a cross-validation which means training the model on 5 different versions of training data and also evaluating it on those 5 different versions."
   ]
  },
  {
   "cell_type": "code",
   "execution_count": null,
   "id": "4e2cb458",
   "metadata": {
    "execution": {
     "iopub.execute_input": "2022-01-04T23:48:40.011259Z",
     "iopub.status.busy": "2022-01-04T23:48:40.010563Z",
     "iopub.status.idle": "2022-01-04T23:48:40.015049Z",
     "shell.execute_reply": "2022-01-04T23:48:40.015581Z",
     "shell.execute_reply.started": "2022-01-04T23:07:59.448267Z"
    },
    "papermill": {
     "duration": 0.05907,
     "end_time": "2022-01-04T23:48:40.015759",
     "exception": false,
     "start_time": "2022-01-04T23:48:39.956689",
     "status": "completed"
    },
    "tags": []
   },
   "outputs": [],
   "source": [
    "gs_logistic_reg.best_params_"
   ]
  },
  {
   "cell_type": "code",
   "execution_count": null,
   "id": "c3842ffe",
   "metadata": {
    "execution": {
     "iopub.execute_input": "2022-01-04T23:48:40.119297Z",
     "iopub.status.busy": "2022-01-04T23:48:40.118650Z",
     "iopub.status.idle": "2022-01-04T23:48:40.122149Z",
     "shell.execute_reply": "2022-01-04T23:48:40.122748Z",
     "shell.execute_reply.started": "2022-01-04T23:07:59.457308Z"
    },
    "papermill": {
     "duration": 0.057202,
     "end_time": "2022-01-04T23:48:40.122930",
     "exception": false,
     "start_time": "2022-01-04T23:48:40.065728",
     "status": "completed"
    },
    "tags": []
   },
   "outputs": [],
   "source": [
    "# Creating a new model based on the best params\n",
    "clf = LogisticRegression(C=0.23357214690901212,\n",
    "                         solver='liblinear')"
   ]
  },
  {
   "cell_type": "code",
   "execution_count": null,
   "id": "de221898",
   "metadata": {
    "execution": {
     "iopub.execute_input": "2022-01-04T23:48:40.227194Z",
     "iopub.status.busy": "2022-01-04T23:48:40.225565Z",
     "iopub.status.idle": "2022-01-04T23:49:48.271219Z",
     "shell.execute_reply": "2022-01-04T23:49:48.272004Z",
     "shell.execute_reply.started": "2022-01-04T23:07:59.471261Z"
    },
    "papermill": {
     "duration": 68.099499,
     "end_time": "2022-01-04T23:49:48.272234",
     "exception": false,
     "start_time": "2022-01-04T23:48:40.172735",
     "status": "completed"
    },
    "tags": []
   },
   "outputs": [],
   "source": [
    "# To see a list of scoring parameters, you could do 'sklearn.metrics.SCORERS.keys()'\n",
    "params = ['accuracy', 'precision', 'recall', 'f1']\n",
    "def scoring_params(params):\n",
    "    for metric in params:\n",
    "        cv_accuracy = np.mean(cross_val_score(clf, X, y, cv=5, scoring=f'{metric}'))\n",
    "        print(f'{metric}: {cv_accuracy:.3f}')\n",
    "    \n",
    "scoring_params(params)"
   ]
  },
  {
   "cell_type": "code",
   "execution_count": null,
   "id": "e641972b",
   "metadata": {
    "execution": {
     "iopub.execute_input": "2022-01-04T23:49:48.385642Z",
     "iopub.status.busy": "2022-01-04T23:49:48.384879Z",
     "iopub.status.idle": "2022-01-04T23:49:51.703527Z",
     "shell.execute_reply": "2022-01-04T23:49:51.702893Z",
     "shell.execute_reply.started": "2022-01-04T23:09:11.963038Z"
    },
    "papermill": {
     "duration": 3.376589,
     "end_time": "2022-01-04T23:49:51.703667",
     "exception": false,
     "start_time": "2022-01-04T23:49:48.327078",
     "status": "completed"
    },
    "tags": []
   },
   "outputs": [],
   "source": [
    "# Let's see which features are the most important for our model\n",
    "clf = LogisticRegression(C=0.23357214690901212,\n",
    "                         solver='liblinear')\n",
    "\n",
    "clf.fit(X_train, y_train);"
   ]
  },
  {
   "cell_type": "code",
   "execution_count": null,
   "id": "61066749",
   "metadata": {
    "execution": {
     "iopub.execute_input": "2022-01-04T23:49:51.812341Z",
     "iopub.status.busy": "2022-01-04T23:49:51.811683Z",
     "iopub.status.idle": "2022-01-04T23:49:51.814738Z",
     "shell.execute_reply": "2022-01-04T23:49:51.815226Z",
     "shell.execute_reply.started": "2022-01-04T23:09:15.386484Z"
    },
    "papermill": {
     "duration": 0.060137,
     "end_time": "2022-01-04T23:49:51.815405",
     "exception": false,
     "start_time": "2022-01-04T23:49:51.755268",
     "status": "completed"
    },
    "tags": []
   },
   "outputs": [],
   "source": [
    "# How much each feature contributes to predicting our 'target' column which in this case is 'HeartDiseaseorAttack'\n",
    "clf.coef_"
   ]
  },
  {
   "cell_type": "code",
   "execution_count": null,
   "id": "27207d1c",
   "metadata": {
    "execution": {
     "iopub.execute_input": "2022-01-04T23:49:51.921873Z",
     "iopub.status.busy": "2022-01-04T23:49:51.921158Z",
     "iopub.status.idle": "2022-01-04T23:49:51.927329Z",
     "shell.execute_reply": "2022-01-04T23:49:51.927859Z",
     "shell.execute_reply.started": "2022-01-04T23:09:15.396295Z"
    },
    "papermill": {
     "duration": 0.061135,
     "end_time": "2022-01-04T23:49:51.928029",
     "exception": false,
     "start_time": "2022-01-04T23:49:51.866894",
     "status": "completed"
    },
    "tags": []
   },
   "outputs": [],
   "source": [
    "features = dict(zip(df.columns, list(clf.coef_[0])))\n",
    "features"
   ]
  },
  {
   "cell_type": "code",
   "execution_count": null,
   "id": "058d57df",
   "metadata": {
    "execution": {
     "iopub.execute_input": "2022-01-04T23:49:52.036009Z",
     "iopub.status.busy": "2022-01-04T23:49:52.035290Z",
     "iopub.status.idle": "2022-01-04T23:49:52.439554Z",
     "shell.execute_reply": "2022-01-04T23:49:52.440070Z",
     "shell.execute_reply.started": "2022-01-04T23:12:30.416445Z"
    },
    "papermill": {
     "duration": 0.459702,
     "end_time": "2022-01-04T23:49:52.440250",
     "exception": false,
     "start_time": "2022-01-04T23:49:51.980548",
     "status": "completed"
    },
    "tags": []
   },
   "outputs": [],
   "source": [
    "# Let's visualize the data\n",
    "features_df = pd.DataFrame(features, index=[0]).T.plot.bar(figsize=(20,10), title='Feature Importance')\n"
   ]
  },
  {
   "cell_type": "markdown",
   "id": "99abba12",
   "metadata": {
    "papermill": {
     "duration": 0.053226,
     "end_time": "2022-01-04T23:49:52.546889",
     "exception": false,
     "start_time": "2022-01-04T23:49:52.493663",
     "status": "completed"
    },
    "tags": []
   },
   "source": [
    "## Conclusion:\n",
    "\n",
    "* As we can see that certain features aren't contributing to our 'target' column so to save time in the future while collecting data for a similar purpose, we could elimintate said features that are not contributing as much or at all\n",
    "\n",
    "* The dataset was very imbalanced and we tried using different classification models but ultimately realized that **LogisticRegresson** gave us the best results\n",
    "\n",
    "* We also tried adjusting the hyperparameters in order to improve our model which didn't turn out as well as we had hoped"
   ]
  },
  {
   "cell_type": "code",
   "execution_count": null,
   "id": "c115622c",
   "metadata": {
    "papermill": {
     "duration": 0.054004,
     "end_time": "2022-01-04T23:49:52.655514",
     "exception": false,
     "start_time": "2022-01-04T23:49:52.601510",
     "status": "completed"
    },
    "tags": []
   },
   "outputs": [],
   "source": []
  }
 ],
 "metadata": {
  "kernelspec": {
   "display_name": "Python 3 (ipykernel)",
   "language": "python",
   "name": "python3"
  },
  "language_info": {
   "codemirror_mode": {
    "name": "ipython",
    "version": 3
   },
   "file_extension": ".py",
   "mimetype": "text/x-python",
   "name": "python",
   "nbconvert_exporter": "python",
   "pygments_lexer": "ipython3",
   "version": "3.9.7"
  },
  "papermill": {
   "default_parameters": {},
   "duration": 951.260559,
   "end_time": "2022-01-04T23:49:53.522256",
   "environment_variables": {},
   "exception": null,
   "input_path": "__notebook__.ipynb",
   "output_path": "__notebook__.ipynb",
   "parameters": {},
   "start_time": "2022-01-04T23:34:02.261697",
   "version": "2.3.3"
  }
 },
 "nbformat": 4,
 "nbformat_minor": 5
}
